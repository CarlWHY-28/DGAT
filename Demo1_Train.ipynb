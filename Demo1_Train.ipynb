{
 "cells": [
  {
   "cell_type": "markdown",
   "id": "098c536a-3687-419f-9d14-544075402a82",
   "metadata": {},
   "source": [
    "## Demo Notebook for training a DGAT model.\n",
    "\n",
    "Here, we trained a DGAT model using only one sample, which is Tonsil dataset. You can replace this with your own dataset. The dataset should be in the format of AnnData object with RNA and protein data. After that we predicted the protein expression from the RNA data of Lymph Node in the **Demo_Predict_2.ipynb**.\n",
    "\n",
    "Please replace the **sample_list**, **model_save_dir**, **pyg_save_dir** and **dataset_save_dir** with your actual paths"
   ]
  },
  {
   "cell_type": "code",
   "execution_count": 1,
   "id": "224dbdac-fafd-4e1b-bace-ef6f6ecc217a",
   "metadata": {
    "ExecuteTime": {
     "end_time": "2025-07-03T05:31:51.523780Z",
     "start_time": "2025-07-03T05:31:46.418089Z"
    }
   },
   "outputs": [],
   "source": [
    "import numpy as np\n",
    "\n",
    "import scanpy as sc\n",
    "import torch\n",
    "import warnings\n",
    "warnings.filterwarnings('ignore')\n",
    "\n",
    "from utils.Preprocessing import qc_control_cytassist, normalize, clean_protein_names, preprocess_train_list\n",
    "from Model.Train_and_Predict import train\n",
    "\n",
    "import random\n",
    "import os\n",
    "os.environ['KMP_DUPLICATE_LIB_OK'] = 'True'\n",
    "\n",
    "sample_list = ['Tonsil']\n",
    "\n",
    "dataset_save_dir = './DGAT_training_datasets'\n",
    "\n",
    "pyg_save_dir = './pyg_data' # Any dir that you want. Building a graph might take 3 mins or more (depends on the scale of the dataset).This directory is used to save the graph data in PyG format, which can be reused for training.\n",
    "\n",
    "model_save_dir = './DGAT_pretrained_models'# Directory to save the trained DGAT model.\n",
    "\n",
    "\n",
    "os.makedirs(model_save_dir, exist_ok=True)"
   ]
  },
  {
   "cell_type": "markdown",
   "source": [
    "### Loading dataset\n",
    "You can replace this with your own dataset. The dataset should be in the format of AnnData object with RNA and protein data."
   ],
   "metadata": {
    "collapsed": false
   },
   "id": "7ebcf0fc4339eb63"
  },
  {
   "cell_type": "code",
   "execution_count": 2,
   "id": "28883f2e-d071-4d33-bda3-56d9d354d31c",
   "metadata": {
    "ExecuteTime": {
     "end_time": "2025-07-03T05:31:51.753427Z",
     "start_time": "2025-07-03T05:31:51.524551Z"
    }
   },
   "outputs": [
    {
     "name": "stdout",
     "output_type": "stream",
     "text": [
      "Tonsil\n"
     ]
    }
   ],
   "source": [
    "adata_list = []\n",
    "pdata_list = []\n",
    "for sample in sample_list:\n",
    "    print(sample)\n",
    "    adata = sc.read_h5ad(f'{dataset_save_dir}/{sample}_RNA.h5ad')\n",
    "    pdata = sc.read_h5ad(f'{dataset_save_dir}/{sample}_ADT.h5ad')\n",
    "    adata_list.append(adata)\n",
    "    pdata_list.append(pdata)\n"
   ]
  },
  {
   "cell_type": "raw",
   "source": [],
   "metadata": {
    "collapsed": false
   },
   "id": "1bd9534a22cdec7a"
  },
  {
   "cell_type": "markdown",
   "source": [
    "### Preprocessing\n",
    "In this step, we will perform quality control, normalization, and finding the common genes and proteins across the datasets.\n"
   ],
   "metadata": {
    "collapsed": false
   },
   "id": "42e29093894aa28e"
  },
  {
   "cell_type": "code",
   "execution_count": 3,
   "id": "b11ea399-c41a-402a-9040-54a8ada75996",
   "metadata": {
    "scrolled": true,
    "ExecuteTime": {
     "end_time": "2025-07-03T05:31:58.447297Z",
     "start_time": "2025-07-03T05:31:55.575316Z"
    }
   },
   "outputs": [
    {
     "name": "stdout",
     "output_type": "stream",
     "text": [
      "Common genes before QC: 18085\n",
      "Common proteins before QC: 35\n",
      "Num of encoding genes: 30\n",
      "Common genes after QC: 17434\n",
      "Common proteins after QC: 31\n",
      "Common gene names saved to common_gene_17434.txt\n",
      "Common protein names saved to common_protein_31.txt\n"
     ]
    }
   ],
   "source": [
    "# Performs quality control and normalization on the training datasets\n",
    "common_gene, common_protein = preprocess_train_list(adata_list, pdata_list)"
   ]
  },
  {
   "cell_type": "code",
   "execution_count": 4,
   "id": "8b6fd41e-a9fe-4c2d-86c8-3242a0d26bff",
   "metadata": {
    "ExecuteTime": {
     "end_time": "2025-07-03T05:32:07.772870Z",
     "start_time": "2025-07-03T05:32:07.751113Z"
    }
   },
   "outputs": [],
   "source": [
    "adata_list = [adata[:,common_gene] for adata in adata_list]\n",
    "pdata_list = [pdata[:,common_protein] for pdata in pdata_list]"
   ]
  },
  {
   "cell_type": "markdown",
   "source": [
    "### Training\n",
    "\n"
   ],
   "metadata": {
    "collapsed": false
   },
   "id": "ec3adb2ea01c7b38"
  },
  {
   "cell_type": "code",
   "execution_count": 5,
   "id": "6ffa975b-dc49-4d72-b439-07f73b693cf4",
   "metadata": {
    "scrolled": true,
    "ExecuteTime": {
     "end_time": "2025-07-03T05:45:54.839579Z",
     "start_time": "2025-07-03T05:32:21.444136Z"
    }
   },
   "outputs": [
    {
     "name": "stdout",
     "output_type": "stream",
     "text": [
      "Common genes: 17434\n",
      "Common proteins: 31\n",
      "Creating or loading dataset\n",
      "Creating and saving preprocessed data for sample 'CytAssist_FFPE_Protein_Expression_Human_Tonsil'\n",
      "Dataset ready\n",
      "Using single device for both models\n"
     ]
    },
    {
     "name": "stderr",
     "output_type": "stream",
     "text": [
      "                                                          \r"
     ]
    },
    {
     "name": "stdout",
     "output_type": "stream",
     "text": [
      "Epoch [1/100] Total Loss: 12.9259 | mRNA Recon: 1.3340 | Protein Recon: 0.9171 | Alignment: 1.2841 | Protein Pred: 0.9071 | mRNA Pred: 1.3334\n",
      "Epoch 1: EB evidence = -2.4350\n"
     ]
    },
    {
     "name": "stderr",
     "output_type": "stream",
     "text": [
      "                                                          \r"
     ]
    },
    {
     "name": "stdout",
     "output_type": "stream",
     "text": [
      "Epoch [2/100] Total Loss: 10.9490 | mRNA Recon: 1.3014 | Protein Recon: 0.5432 | Alignment: 1.0218 | Protein Pred: 0.5248 | mRNA Pred: 1.3022\n",
      "Epoch 2: EB evidence = -1.4304\n"
     ]
    },
    {
     "name": "stderr",
     "output_type": "stream",
     "text": [
      "                                                          \r"
     ]
    },
    {
     "name": "stdout",
     "output_type": "stream",
     "text": [
      "Epoch [3/100] Total Loss: 9.9475 | mRNA Recon: 1.2659 | Protein Recon: 0.4257 | Alignment: 0.7465 | Protein Pred: 0.3922 | mRNA Pred: 1.2692\n",
      "Epoch 3: EB evidence = -0.2269\n"
     ]
    },
    {
     "name": "stderr",
     "output_type": "stream",
     "text": [
      "                                                          \r"
     ]
    },
    {
     "name": "stdout",
     "output_type": "stream",
     "text": [
      "Epoch [4/100] Total Loss: 9.3565 | mRNA Recon: 1.2305 | Protein Recon: 0.3731 | Alignment: 0.6035 | Protein Pred: 0.3312 | mRNA Pred: 1.2340\n",
      "Epoch 4: EB evidence = 4.7506\n"
     ]
    },
    {
     "name": "stderr",
     "output_type": "stream",
     "text": [
      "                                                          \r"
     ]
    },
    {
     "name": "stdout",
     "output_type": "stream",
     "text": [
      "Epoch [5/100] Total Loss: 8.9712 | mRNA Recon: 1.1945 | Protein Recon: 0.3443 | Alignment: 0.5374 | Protein Pred: 0.3061 | mRNA Pred: 1.1990\n",
      "Epoch 5: EB evidence = 0.3355\n"
     ]
    },
    {
     "name": "stderr",
     "output_type": "stream",
     "text": [
      "                                                          \r"
     ]
    },
    {
     "name": "stdout",
     "output_type": "stream",
     "text": [
      "Epoch [6/100] Total Loss: 8.6864 | mRNA Recon: 1.1595 | Protein Recon: 0.3345 | Alignment: 0.5004 | Protein Pred: 0.2967 | mRNA Pred: 1.1639\n",
      "Epoch 6: EB evidence = 0.5407\n"
     ]
    },
    {
     "name": "stderr",
     "output_type": "stream",
     "text": [
      "                                                          \r"
     ]
    },
    {
     "name": "stdout",
     "output_type": "stream",
     "text": [
      "Epoch [7/100] Total Loss: 8.4378 | mRNA Recon: 1.1261 | Protein Recon: 0.3299 | Alignment: 0.4750 | Protein Pred: 0.2908 | mRNA Pred: 1.1301\n",
      "Epoch 7: EB evidence = 0.9744\n"
     ]
    },
    {
     "name": "stderr",
     "output_type": "stream",
     "text": [
      "                                                          \r"
     ]
    },
    {
     "name": "stdout",
     "output_type": "stream",
     "text": [
      "Epoch [8/100] Total Loss: 8.2083 | mRNA Recon: 1.0956 | Protein Recon: 0.3235 | Alignment: 0.4559 | Protein Pred: 0.2839 | mRNA Pred: 1.0996\n",
      "Epoch 8: EB evidence = 1.0267\n"
     ]
    },
    {
     "name": "stderr",
     "output_type": "stream",
     "text": [
      "                                                          \r"
     ]
    },
    {
     "name": "stdout",
     "output_type": "stream",
     "text": [
      "Epoch [9/100] Total Loss: 8.0106 | mRNA Recon: 1.0695 | Protein Recon: 0.3167 | Alignment: 0.4400 | Protein Pred: 0.2778 | mRNA Pred: 1.0730\n",
      "Epoch 9: EB evidence = 0.1994\n"
     ]
    },
    {
     "name": "stderr",
     "output_type": "stream",
     "text": [
      "                                                           \r"
     ]
    },
    {
     "name": "stdout",
     "output_type": "stream",
     "text": [
      "Epoch [10/100] Total Loss: 7.8445 | mRNA Recon: 1.0489 | Protein Recon: 0.3077 | Alignment: 0.4238 | Protein Pred: 0.2722 | mRNA Pred: 1.0517\n",
      "Epoch 10: Learning rate reduced.\n",
      "Epoch 10: EB evidence = 0.9638\n"
     ]
    },
    {
     "name": "stderr",
     "output_type": "stream",
     "text": [
      "                                                           \r"
     ]
    },
    {
     "name": "stdout",
     "output_type": "stream",
     "text": [
      "Epoch [11/100] Total Loss: 7.7180 | mRNA Recon: 1.0352 | Protein Recon: 0.2977 | Alignment: 0.4086 | Protein Pred: 0.2661 | mRNA Pred: 1.0372\n",
      "Epoch 11: EB evidence = 0.8752\n"
     ]
    },
    {
     "name": "stderr",
     "output_type": "stream",
     "text": [
      "                                                           \r"
     ]
    },
    {
     "name": "stdout",
     "output_type": "stream",
     "text": [
      "Epoch [12/100] Total Loss: 7.6501 | mRNA Recon: 1.0293 | Protein Recon: 0.2895 | Alignment: 0.3963 | Protein Pred: 0.2624 | mRNA Pred: 1.0306\n",
      "Epoch 12: EB evidence = 0.7097\n"
     ]
    },
    {
     "name": "stderr",
     "output_type": "stream",
     "text": [
      "                                                           \r"
     ]
    },
    {
     "name": "stdout",
     "output_type": "stream",
     "text": [
      "Epoch [13/100] Total Loss: 7.5999 | mRNA Recon: 1.0264 | Protein Recon: 0.2819 | Alignment: 0.3831 | Protein Pred: 0.2585 | mRNA Pred: 1.0273\n",
      "Epoch 13: EB evidence = 0.9485\n"
     ]
    },
    {
     "name": "stderr",
     "output_type": "stream",
     "text": [
      "                                                           \r"
     ]
    },
    {
     "name": "stdout",
     "output_type": "stream",
     "text": [
      "Epoch [14/100] Total Loss: 7.5657 | mRNA Recon: 1.0255 | Protein Recon: 0.2753 | Alignment: 0.3709 | Protein Pred: 0.2553 | mRNA Pred: 1.0261\n",
      "Epoch 14: EB evidence = 0.9427\n"
     ]
    },
    {
     "name": "stderr",
     "output_type": "stream",
     "text": [
      "                                                           \r"
     ]
    },
    {
     "name": "stdout",
     "output_type": "stream",
     "text": [
      "Epoch [15/100] Total Loss: 7.5359 | mRNA Recon: 1.0252 | Protein Recon: 0.2699 | Alignment: 0.3597 | Protein Pred: 0.2515 | mRNA Pred: 1.0256\n",
      "Epoch 15: EB evidence = 0.8094\n"
     ]
    },
    {
     "name": "stderr",
     "output_type": "stream",
     "text": [
      "                                                           \r"
     ]
    },
    {
     "name": "stdout",
     "output_type": "stream",
     "text": [
      "Epoch [16/100] Total Loss: 7.5045 | mRNA Recon: 1.0245 | Protein Recon: 0.2652 | Alignment: 0.3495 | Protein Pred: 0.2476 | mRNA Pred: 1.0249\n",
      "Epoch 16: EB evidence = 0.7354\n"
     ]
    },
    {
     "name": "stderr",
     "output_type": "stream",
     "text": [
      "                                                           \r"
     ]
    },
    {
     "name": "stdout",
     "output_type": "stream",
     "text": [
      "Epoch [17/100] Total Loss: 7.4654 | mRNA Recon: 1.0227 | Protein Recon: 0.2592 | Alignment: 0.3392 | Protein Pred: 0.2434 | mRNA Pred: 1.0232\n",
      "Epoch 17: EB evidence = 0.9145\n"
     ]
    },
    {
     "name": "stderr",
     "output_type": "stream",
     "text": [
      "                                                           \r"
     ]
    },
    {
     "name": "stdout",
     "output_type": "stream",
     "text": [
      "Epoch [18/100] Total Loss: 7.4232 | mRNA Recon: 1.0201 | Protein Recon: 0.2543 | Alignment: 0.3302 | Protein Pred: 0.2391 | mRNA Pred: 1.0209\n",
      "Epoch 18: EB evidence = 0.9142\n"
     ]
    },
    {
     "name": "stderr",
     "output_type": "stream",
     "text": [
      "                                                           \r"
     ]
    },
    {
     "name": "stdout",
     "output_type": "stream",
     "text": [
      "Epoch [19/100] Total Loss: 7.3755 | mRNA Recon: 1.0171 | Protein Recon: 0.2482 | Alignment: 0.3217 | Protein Pred: 0.2339 | mRNA Pred: 1.0182\n",
      "Epoch 19: EB evidence = 0.8805\n"
     ]
    },
    {
     "name": "stderr",
     "output_type": "stream",
     "text": [
      "                                                           \r"
     ]
    },
    {
     "name": "stdout",
     "output_type": "stream",
     "text": [
      "Epoch [20/100] Total Loss: 7.3311 | mRNA Recon: 1.0144 | Protein Recon: 0.2413 | Alignment: 0.3143 | Protein Pred: 0.2293 | mRNA Pred: 1.0156\n",
      "Epoch 20: Learning rate reduced.\n",
      "Epoch 20: EB evidence = 1.0575\n"
     ]
    },
    {
     "name": "stderr",
     "output_type": "stream",
     "text": [
      "                                                           \r"
     ]
    },
    {
     "name": "stdout",
     "output_type": "stream",
     "text": [
      "Epoch [21/100] Total Loss: 7.2907 | mRNA Recon: 1.0122 | Protein Recon: 0.2357 | Alignment: 0.3075 | Protein Pred: 0.2244 | mRNA Pred: 1.0134\n",
      "Epoch 21: EB evidence = 1.0429\n"
     ]
    },
    {
     "name": "stderr",
     "output_type": "stream",
     "text": [
      "                                                           \r"
     ]
    },
    {
     "name": "stdout",
     "output_type": "stream",
     "text": [
      "Epoch [22/100] Total Loss: 7.2605 | mRNA Recon: 1.0107 | Protein Recon: 0.2315 | Alignment: 0.3010 | Protein Pred: 0.2208 | mRNA Pred: 1.0119\n",
      "Epoch 22: EB evidence = -inf\n"
     ]
    },
    {
     "name": "stderr",
     "output_type": "stream",
     "text": [
      "                                                           \r"
     ]
    },
    {
     "name": "stdout",
     "output_type": "stream",
     "text": [
      "Epoch [23/100] Total Loss: 7.2323 | mRNA Recon: 1.0097 | Protein Recon: 0.2269 | Alignment: 0.2962 | Protein Pred: 0.2167 | mRNA Pred: 1.0108\n",
      "Epoch 23: EB evidence = 0.8810\n"
     ]
    },
    {
     "name": "stderr",
     "output_type": "stream",
     "text": [
      "                                                           \r"
     ]
    },
    {
     "name": "stdout",
     "output_type": "stream",
     "text": [
      "Epoch [24/100] Total Loss: 7.2078 | mRNA Recon: 1.0088 | Protein Recon: 0.2225 | Alignment: 0.2908 | Protein Pred: 0.2135 | mRNA Pred: 1.0098\n",
      "Epoch 24: EB evidence = 1.0563\n"
     ]
    },
    {
     "name": "stderr",
     "output_type": "stream",
     "text": [
      "                                                           \r"
     ]
    },
    {
     "name": "stdout",
     "output_type": "stream",
     "text": [
      "Epoch [25/100] Total Loss: 7.1843 | mRNA Recon: 1.0082 | Protein Recon: 0.2181 | Alignment: 0.2859 | Protein Pred: 0.2101 | mRNA Pred: 1.0092\n",
      "Epoch 25: EB evidence = 0.9710\n"
     ]
    },
    {
     "name": "stderr",
     "output_type": "stream",
     "text": [
      "                                                           \r"
     ]
    },
    {
     "name": "stdout",
     "output_type": "stream",
     "text": [
      "Epoch [26/100] Total Loss: 7.1607 | mRNA Recon: 1.0076 | Protein Recon: 0.2131 | Alignment: 0.2808 | Protein Pred: 0.2066 | mRNA Pred: 1.0086\n",
      "Epoch 26: EB evidence = 0.9592\n"
     ]
    },
    {
     "name": "stderr",
     "output_type": "stream",
     "text": [
      "                                                           \r"
     ]
    },
    {
     "name": "stdout",
     "output_type": "stream",
     "text": [
      "Epoch [27/100] Total Loss: 7.1373 | mRNA Recon: 1.0070 | Protein Recon: 0.2084 | Alignment: 0.2756 | Protein Pred: 0.2033 | mRNA Pred: 1.0081\n",
      "Epoch 27: EB evidence = 0.9625\n"
     ]
    },
    {
     "name": "stderr",
     "output_type": "stream",
     "text": [
      "                                                           \r"
     ]
    },
    {
     "name": "stdout",
     "output_type": "stream",
     "text": [
      "Epoch [28/100] Total Loss: 7.1140 | mRNA Recon: 1.0064 | Protein Recon: 0.2028 | Alignment: 0.2709 | Protein Pred: 0.2002 | mRNA Pred: 1.0076\n",
      "Epoch 28: EB evidence = 0.9776\n"
     ]
    },
    {
     "name": "stderr",
     "output_type": "stream",
     "text": [
      "                                                           \r"
     ]
    },
    {
     "name": "stdout",
     "output_type": "stream",
     "text": [
      "Epoch [29/100] Total Loss: 7.0919 | mRNA Recon: 1.0057 | Protein Recon: 0.1983 | Alignment: 0.2663 | Protein Pred: 0.1972 | mRNA Pred: 1.0071\n",
      "Epoch 29: EB evidence = 0.9467\n"
     ]
    },
    {
     "name": "stderr",
     "output_type": "stream",
     "text": [
      "                                                           \r"
     ]
    },
    {
     "name": "stdout",
     "output_type": "stream",
     "text": [
      "Epoch [30/100] Total Loss: 7.0685 | mRNA Recon: 1.0050 | Protein Recon: 0.1937 | Alignment: 0.2624 | Protein Pred: 0.1936 | mRNA Pred: 1.0065\n",
      "Epoch 30: Learning rate reduced.\n",
      "Epoch 30: EB evidence = 1.0484\n"
     ]
    },
    {
     "name": "stderr",
     "output_type": "stream",
     "text": [
      "                                                           \r"
     ]
    },
    {
     "name": "stdout",
     "output_type": "stream",
     "text": [
      "Epoch [31/100] Total Loss: 7.0515 | mRNA Recon: 1.0042 | Protein Recon: 0.1905 | Alignment: 0.2585 | Protein Pred: 0.1918 | mRNA Pred: 1.0059\n",
      "Epoch 31: EB evidence = 0.9746\n"
     ]
    },
    {
     "name": "stderr",
     "output_type": "stream",
     "text": [
      "                                                           \r"
     ]
    },
    {
     "name": "stdout",
     "output_type": "stream",
     "text": [
      "Epoch [32/100] Total Loss: 7.0351 | mRNA Recon: 1.0036 | Protein Recon: 0.1875 | Alignment: 0.2553 | Protein Pred: 0.1896 | mRNA Pred: 1.0054\n",
      "Epoch 32: EB evidence = 0.9897\n"
     ]
    },
    {
     "name": "stderr",
     "output_type": "stream",
     "text": [
      "                                                           \r"
     ]
    },
    {
     "name": "stdout",
     "output_type": "stream",
     "text": [
      "Epoch [33/100] Total Loss: 7.0202 | mRNA Recon: 1.0030 | Protein Recon: 0.1853 | Alignment: 0.2525 | Protein Pred: 0.1876 | mRNA Pred: 1.0048\n",
      "Epoch 33: EB evidence = 0.9900\n"
     ]
    },
    {
     "name": "stderr",
     "output_type": "stream",
     "text": [
      "                                                           \r"
     ]
    },
    {
     "name": "stdout",
     "output_type": "stream",
     "text": [
      "Epoch [34/100] Total Loss: 7.0077 | mRNA Recon: 1.0024 | Protein Recon: 0.1838 | Alignment: 0.2497 | Protein Pred: 0.1860 | mRNA Pred: 1.0042\n",
      "Epoch 34: EB evidence = 0.9926\n"
     ]
    },
    {
     "name": "stderr",
     "output_type": "stream",
     "text": [
      "                                                           \r"
     ]
    },
    {
     "name": "stdout",
     "output_type": "stream",
     "text": [
      "Epoch [35/100] Total Loss: 6.9932 | mRNA Recon: 1.0018 | Protein Recon: 0.1821 | Alignment: 0.2466 | Protein Pred: 0.1840 | mRNA Pred: 1.0036\n",
      "Epoch 35: EB evidence = -inf\n"
     ]
    },
    {
     "name": "stderr",
     "output_type": "stream",
     "text": [
      "                                                           \r"
     ]
    },
    {
     "name": "stdout",
     "output_type": "stream",
     "text": [
      "Epoch [36/100] Total Loss: 6.9807 | mRNA Recon: 1.0012 | Protein Recon: 0.1813 | Alignment: 0.2437 | Protein Pred: 0.1822 | mRNA Pred: 1.0031\n",
      "Epoch 36: EB evidence = 0.9706\n"
     ]
    },
    {
     "name": "stderr",
     "output_type": "stream",
     "text": [
      "                                                           \r"
     ]
    },
    {
     "name": "stdout",
     "output_type": "stream",
     "text": [
      "Epoch [37/100] Total Loss: 6.9653 | mRNA Recon: 1.0007 | Protein Recon: 0.1797 | Alignment: 0.2404 | Protein Pred: 0.1798 | mRNA Pred: 1.0024\n",
      "Epoch 37: EB evidence = 0.9878\n"
     ]
    },
    {
     "name": "stderr",
     "output_type": "stream",
     "text": [
      "                                                           \r"
     ]
    },
    {
     "name": "stdout",
     "output_type": "stream",
     "text": [
      "Epoch [38/100] Total Loss: 6.9556 | mRNA Recon: 1.0003 | Protein Recon: 0.1789 | Alignment: 0.2380 | Protein Pred: 0.1785 | mRNA Pred: 1.0020\n",
      "Epoch 38: EB evidence = 0.9852\n"
     ]
    },
    {
     "name": "stderr",
     "output_type": "stream",
     "text": [
      "                                                           \r"
     ]
    },
    {
     "name": "stdout",
     "output_type": "stream",
     "text": [
      "Epoch [39/100] Total Loss: 6.9427 | mRNA Recon: 0.9998 | Protein Recon: 0.1771 | Alignment: 0.2353 | Protein Pred: 0.1767 | mRNA Pred: 1.0015\n",
      "Epoch 39: EB evidence = 0.9905\n"
     ]
    },
    {
     "name": "stderr",
     "output_type": "stream",
     "text": [
      "                                                           \r"
     ]
    },
    {
     "name": "stdout",
     "output_type": "stream",
     "text": [
      "Epoch [40/100] Total Loss: 6.9309 | mRNA Recon: 0.9994 | Protein Recon: 0.1757 | Alignment: 0.2325 | Protein Pred: 0.1750 | mRNA Pred: 1.0010\n",
      "Epoch 40: Learning rate reduced.\n",
      "Epoch 40: EB evidence = 0.9823\n"
     ]
    },
    {
     "name": "stderr",
     "output_type": "stream",
     "text": [
      "                                                           \r"
     ]
    },
    {
     "name": "stdout",
     "output_type": "stream",
     "text": [
      "Epoch [41/100] Total Loss: 6.9195 | mRNA Recon: 0.9989 | Protein Recon: 0.1739 | Alignment: 0.2302 | Protein Pred: 0.1734 | mRNA Pred: 1.0005\n",
      "Epoch 41: EB evidence = 0.9902\n"
     ]
    },
    {
     "name": "stderr",
     "output_type": "stream",
     "text": [
      "                                                           \r"
     ]
    },
    {
     "name": "stdout",
     "output_type": "stream",
     "text": [
      "Epoch [42/100] Total Loss: 6.9097 | mRNA Recon: 0.9986 | Protein Recon: 0.1733 | Alignment: 0.2282 | Protein Pred: 0.1717 | mRNA Pred: 1.0002\n",
      "Epoch 42: EB evidence = 0.9880\n"
     ]
    },
    {
     "name": "stderr",
     "output_type": "stream",
     "text": [
      "                                                           \r"
     ]
    },
    {
     "name": "stdout",
     "output_type": "stream",
     "text": [
      "Epoch [43/100] Total Loss: 6.9015 | mRNA Recon: 0.9981 | Protein Recon: 0.1719 | Alignment: 0.2265 | Protein Pred: 0.1709 | mRNA Pred: 0.9998\n",
      "Epoch 43: EB evidence = 0.9920\n"
     ]
    },
    {
     "name": "stderr",
     "output_type": "stream",
     "text": [
      "                                                           \r"
     ]
    },
    {
     "name": "stdout",
     "output_type": "stream",
     "text": [
      "Epoch [44/100] Total Loss: 6.8921 | mRNA Recon: 0.9977 | Protein Recon: 0.1708 | Alignment: 0.2244 | Protein Pred: 0.1697 | mRNA Pred: 0.9994\n",
      "Epoch 44: EB evidence = 0.9760\n"
     ]
    },
    {
     "name": "stderr",
     "output_type": "stream",
     "text": [
      "                                                           \r"
     ]
    },
    {
     "name": "stdout",
     "output_type": "stream",
     "text": [
      "Epoch [45/100] Total Loss: 6.8818 | mRNA Recon: 0.9973 | Protein Recon: 0.1700 | Alignment: 0.2228 | Protein Pred: 0.1679 | mRNA Pred: 0.9990\n",
      "Epoch 45: EB evidence = 0.9757\n"
     ]
    },
    {
     "name": "stderr",
     "output_type": "stream",
     "text": [
      "                                                           \r"
     ]
    },
    {
     "name": "stdout",
     "output_type": "stream",
     "text": [
      "Epoch [46/100] Total Loss: 6.8733 | mRNA Recon: 0.9968 | Protein Recon: 0.1687 | Alignment: 0.2207 | Protein Pred: 0.1671 | mRNA Pred: 0.9986\n",
      "Epoch 46: EB evidence = 0.9917\n"
     ]
    },
    {
     "name": "stderr",
     "output_type": "stream",
     "text": [
      "                                                           \r"
     ]
    },
    {
     "name": "stdout",
     "output_type": "stream",
     "text": [
      "Epoch [47/100] Total Loss: 6.8642 | mRNA Recon: 0.9963 | Protein Recon: 0.1676 | Alignment: 0.2188 | Protein Pred: 0.1660 | mRNA Pred: 0.9981\n",
      "Epoch 47: EB evidence = 1.0051\n"
     ]
    },
    {
     "name": "stderr",
     "output_type": "stream",
     "text": [
      "                                                           \r"
     ]
    },
    {
     "name": "stdout",
     "output_type": "stream",
     "text": [
      "Epoch [48/100] Total Loss: 6.8558 | mRNA Recon: 0.9959 | Protein Recon: 0.1672 | Alignment: 0.2173 | Protein Pred: 0.1647 | mRNA Pred: 0.9978\n",
      "Epoch 48: EB evidence = 1.0267\n"
     ]
    },
    {
     "name": "stderr",
     "output_type": "stream",
     "text": [
      "                                                           \r"
     ]
    },
    {
     "name": "stdout",
     "output_type": "stream",
     "text": [
      "Epoch [49/100] Total Loss: 6.8481 | mRNA Recon: 0.9954 | Protein Recon: 0.1660 | Alignment: 0.2158 | Protein Pred: 0.1640 | mRNA Pred: 0.9973\n",
      "Epoch 49: EB evidence = 0.9778\n"
     ]
    },
    {
     "name": "stderr",
     "output_type": "stream",
     "text": [
      "                                                           \r"
     ]
    },
    {
     "name": "stdout",
     "output_type": "stream",
     "text": [
      "Epoch [50/100] Total Loss: 6.8377 | mRNA Recon: 0.9949 | Protein Recon: 0.1652 | Alignment: 0.2141 | Protein Pred: 0.1624 | mRNA Pred: 0.9969\n",
      "Epoch 50: Learning rate reduced.\n",
      "Epoch 50: EB evidence = 1.0086\n"
     ]
    },
    {
     "name": "stderr",
     "output_type": "stream",
     "text": [
      "                                                           \r"
     ]
    },
    {
     "name": "stdout",
     "output_type": "stream",
     "text": [
      "Epoch [51/100] Total Loss: 6.8277 | mRNA Recon: 0.9943 | Protein Recon: 0.1639 | Alignment: 0.2123 | Protein Pred: 0.1611 | mRNA Pred: 0.9965\n",
      "Epoch 51: EB evidence = 0.9553\n",
      "--> EB early stopping at epoch 51 (mean_evidence=0.9897, threshold=0.96)\n",
      "./DGAT_models/17434_gene_31_protein\n"
     ]
    }
   ],
   "source": [
    "device = torch.device(\"cuda\" if torch.cuda.is_available() else \"cpu\")\n",
    "\n",
    "# Trains the DGAT model using the preprocessed training datasets. It takes in the list of processed ST datasets and protein datasets, and the directory to save the processed graph data (for more efficient reproduction).\n",
    "model_components = train(adata_list, pdata_list, pyg_save_dir)\n",
    "\n",
    "model_save_path = f\"{model_save_dir}/{len(common_gene)}_gene_{len(common_protein)}_protein\"\n",
    "print(model_save_path)\n",
    "os.makedirs(model_save_path, exist_ok=True)\n",
    "torch.save(model_components['mRNA_encoder'].state_dict(), model_save_path+f'/encoder_mRNA.pth')\n",
    "torch.save(model_components['mRNA_decoder'].state_dict(), model_save_path+f'/decoder_mRNA.pth')\n",
    "torch.save(model_components['protein_encoder'].state_dict(), model_save_path+f'/encoder_protein.pth')\n",
    "torch.save(model_components['protein_decoder'].state_dict(), model_save_path+f'/decoder_protein.pth')\n",
    "\n"
   ]
  },
  {
   "cell_type": "code",
   "execution_count": null,
   "id": "257235b4-c684-46c5-8587-912d71ee5d2c",
   "metadata": {},
   "outputs": [],
   "source": []
  }
 ],
 "metadata": {
  "kernelspec": {
   "display_name": "Python 3 (ipykernel)",
   "language": "python",
   "name": "python3"
  },
  "language_info": {
   "codemirror_mode": {
    "name": "ipython",
    "version": 3
   },
   "file_extension": ".py",
   "mimetype": "text/x-python",
   "name": "python",
   "nbconvert_exporter": "python",
   "pygments_lexer": "ipython3",
   "version": "3.10.8"
  }
 },
 "nbformat": 4,
 "nbformat_minor": 5
}
